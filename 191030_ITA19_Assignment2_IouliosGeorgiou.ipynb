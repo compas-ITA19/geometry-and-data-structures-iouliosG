{
 "cells": [
  {
   "cell_type": "markdown",
   "metadata": {},
   "source": [
    "# Assignment 2\n"
   ]
  },
  {
   "cell_type": "markdown",
   "metadata": {},
   "source": [
    "# Geometry"
   ]
  },
  {
   "cell_type": "code",
   "execution_count": 1,
   "metadata": {},
   "outputs": [],
   "source": [
    "#1.Given two vectors, use the cross product to create a set of three orthonormal vectors."
   ]
  },
  {
   "cell_type": "code",
   "execution_count": 30,
   "metadata": {
    "scrolled": true
   },
   "outputs": [
    {
     "name": "stdout",
     "output_type": "stream",
     "text": [
      "[[0.4082482904638631, 0.8164965809277261, 0.4082482904638631], [0.9128709291752767, -0.3651483716701109, -0.18257418583505544], [0.0, 0.4472135954999579, -0.8944271909999159]]\n"
     ]
    }
   ],
   "source": [
    "#Solution:\n",
    "\n",
    "from compas.geometry import cross_vectors\n",
    "from compas.geometry import orthonormalize_vectors\n",
    "from compas.geometry import length_vector\n",
    "\n",
    "#Vectors u and v\n",
    "#cross_product is cp\n",
    "\n",
    "\n",
    "cp = cross_vectors(u, v)\n",
    "ov = orthonormalize_vectors([u, v, cp])\n",
    "print(ov)\n",
    "\n",
    "\n"
   ]
  },
  {
   "cell_type": "code",
   "execution_count": null,
   "metadata": {},
   "outputs": [],
   "source": [
    "#2. Use the cross product to compute the area of a convex, 2D polygon."
   ]
  },
  {
   "cell_type": "code",
   "execution_count": null,
   "metadata": {},
   "outputs": [],
   "source": [
    "#Solution:\n",
    "\n",
    "from compas.geometry import centroid_polygon_xy\n",
    "from compas.geometry import Vector\n",
    "from compas.geometry import area_triangle\n",
    "\n",
    "#Convex Polygon with n number of vertices\n",
    "#polygon = [(x1,y2), (x2,y2)..(xn,yn)]\n",
    "#centroid = (xc,yc)\n",
    "\n",
    "polygon = []\n",
    "centroid = centroid_polygon_xy(polygon)\n",
    "list_areas_triangles = []\n",
    "n = len(polygon)\n",
    "\n",
    "for i in range(n):\n",
    "    if i<(n-1):\n",
    "        ab = Vector.from_start_end(centroid, polygon[i])\n",
    "        ac = Vector.from_start_end(centroid, polygon[i+1])\n",
    "        L = ab.cross(ac).length\n",
    "        area_triangle = 0.5*L\n",
    "        list_areas_triangles.append.area_triangle\n",
    "        \n",
    "    \n",
    "    else:\n",
    "        ab = Vector.from_start_end(centroid, polygon[i])\n",
    "        ac = Vector.from_start_end(centroid, polygon[0])\n",
    "        L = ab.cross(ac).length\n",
    "        area_triangle = 0.5*L\n",
    "        list_areas_triangles.append.area_triangle\n",
    "        \n",
    "\n",
    "area_polygon = sum(list_areas_triangles)\n",
    "    \n",
    "    "
   ]
  },
  {
   "cell_type": "code",
   "execution_count": 20,
   "metadata": {},
   "outputs": [
    {
     "name": "stdout",
     "output_type": "stream",
     "text": [
      "59.25844083446217\n"
     ]
    }
   ],
   "source": [
    "#test / example\n",
    "\n",
    "from compas.geometry import centroid_polygon_xy\n",
    "from compas.geometry import Vector\n",
    "from compas.geometry import area_triangle\n",
    "\n",
    "polygon = [(1,2,5), (8,9,5), (2,3,5), (2,4,5), (3,2,5)]\n",
    "centroid = centroid_polygon_xy(polygon)\n",
    "list_areas_triangles = []\n",
    "n = len(polygon)\n",
    "\n",
    "for i in range(n):\n",
    "    if i<(n-1):\n",
    "        ab = Vector.from_start_end(centroid, polygon[i])\n",
    "        ac = Vector.from_start_end(centroid, polygon[i+1])\n",
    "        L = ab.cross(ac).length\n",
    "        area_triangle = 0.5*L\n",
    "        list_areas_triangles.append(area_triangle)\n",
    "        \n",
    "    \n",
    "    else:\n",
    "        ab = Vector.from_start_end(centroid, polygon[i])\n",
    "        ac = Vector.from_start_end(centroid, polygon[0])\n",
    "        L = ab.cross(ac).length\n",
    "        area_triangle = 0.5*L\n",
    "        list_areas_triangles.append(area_triangle)\n",
    "        \n",
    "\n",
    "area_polygon = sum(list_areas_triangles)\n",
    "print(area_polygon)\n",
    "\n",
    "    "
   ]
  },
  {
   "cell_type": "code",
   "execution_count": null,
   "metadata": {},
   "outputs": [],
   "source": [
    "#3. Define a function for computing the cross products of two arrays of vectors.\n",
    "\n",
    "#i.The input arrays have the same length (same number of vectors).\n",
    "#ii.Prototype in pure Python (loop over the arrays).\n",
    "#iii. Make Numpy equivalent without loops."
   ]
  },
  {
   "cell_type": "code",
   "execution_count": 35,
   "metadata": {},
   "outputs": [],
   "source": [
    "#Solution:\n",
    "#ii. Pure Python\n",
    "\n",
    "#array of vectors as a\n",
    "# array = list([a1,b1,c1], [a2, b2, c2],..., [an,bn,cn])\n",
    "\n",
    "a1 = []\n",
    "a2 = []\n",
    "all_cross_products = [] \n",
    "\n",
    "def cross_product_of_two_arrays_of_vectors(a1,a2):\n",
    "    for e in range(len(a1)):\n",
    "        cross_product = cross_vectors(a1[e], a2[e])\n",
    "        all_cross_products.append(cross_product)\n",
    "    return all_cross_products\n",
    "\n",
    "        \n",
    "        \n",
    "    \n"
   ]
  },
  {
   "cell_type": "code",
   "execution_count": 40,
   "metadata": {},
   "outputs": [
    {
     "name": "stdout",
     "output_type": "stream",
     "text": [
      "[[1, -12, 9], [-18, 53, -43], [-2, 24, -26]]\n"
     ]
    }
   ],
   "source": [
    "#test / example\n",
    "a11 = [[3,4,5], [5,9,9], [4,9,8]]\n",
    "a22 = [[3,7,9], [7,4,2], [6,7,6]] \n",
    "\n",
    "print (cross_product_of_two_arrays_of_vectors(a11,a22))\n",
    "    \n"
   ]
  },
  {
   "cell_type": "code",
   "execution_count": 51,
   "metadata": {},
   "outputs": [],
   "source": [
    "#Solution:\n",
    "#ii. Numpy\n",
    "\n",
    "import numpy as np \n",
    "a1 = []\n",
    "a2 = []\n",
    "\n",
    "a1_np = np.array(a1)\n",
    "a2_np = np.array(a2)\n",
    "\n",
    "print (cross_vectors(a1_np, a2_np)) \n"
   ]
  },
  {
   "cell_type": "code",
   "execution_count": null,
   "metadata": {},
   "outputs": [],
   "source": []
  },
  {
   "cell_type": "code",
   "execution_count": null,
   "metadata": {},
   "outputs": [],
   "source": []
  }
 ],
 "metadata": {
  "kernelspec": {
   "display_name": "Python 3",
   "language": "python",
   "name": "python3"
  },
  "language_info": {
   "codemirror_mode": {
    "name": "ipython",
    "version": 3
   },
   "file_extension": ".py",
   "mimetype": "text/x-python",
   "name": "python",
   "nbconvert_exporter": "python",
   "pygments_lexer": "ipython3",
   "version": "3.6.7"
  }
 },
 "nbformat": 4,
 "nbformat_minor": 2
}
